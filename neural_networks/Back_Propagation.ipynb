{
  "nbformat": 4,
  "nbformat_minor": 0,
  "metadata": {
    "colab": {
      "provenance": [],
      "authorship_tag": "ABX9TyN7SAM7Blp6nXzKCQ/NT/Kr",
      "include_colab_link": true
    },
    "kernelspec": {
      "name": "python3",
      "display_name": "Python 3"
    },
    "language_info": {
      "name": "python"
    }
  },
  "cells": [
    {
      "cell_type": "markdown",
      "metadata": {
        "id": "view-in-github",
        "colab_type": "text"
      },
      "source": [
        "<a href=\"https://colab.research.google.com/github/dansarmiento/machine_learning_notebooks/blob/main/Back_Propagation.ipynb\" target=\"_parent\"><img src=\"https://colab.research.google.com/assets/colab-badge.svg\" alt=\"Open In Colab\"/></a>"
      ]
    },
    {
      "cell_type": "markdown",
      "source": [
        "- Train a Neural Network to Solve the XOR Problem\n",
        "- Implement Backpropagation for Neural Network Training\n",
        "- Demonstrate the Use of Activation Functions\n",
        "- Understand the Learning Process Over Multiple Epochs\n",
        "- Demonstrate Weight and Bias Adjustments via Gradient Descent\n",
        "- Evaluate the Model's Performance After Training\n",
        "- Monitor and Analyze the Training Process"
      ],
      "metadata": {
        "id": "v6kyKqppMwE2"
      }
    },
    {
      "cell_type": "code",
      "execution_count": 1,
      "metadata": {
        "id": "5drTjnwrMtGZ"
      },
      "outputs": [],
      "source": [
        "import numpy as np\n",
        "import matplotlib.pyplot as plt"
      ]
    },
    {
      "cell_type": "code",
      "source": [
        "# Defining inputs and expected output (XOR truth table)\n",
        "X = np.array([[0, 0], [0, 1], [1, 0], [1, 1]]).T  # 2x4 matrix, each column is a training example\n",
        "d = np.array([0, 1, 1, 0])  # Expected output for XOR"
      ],
      "metadata": {
        "id": "h1TTGrvrM7Go"
      },
      "execution_count": 2,
      "outputs": []
    },
    {
      "cell_type": "markdown",
      "source": [
        "Define the network parameters such as\n",
        "\n",
        "- number of input neurons\n",
        "- hidden layer neurons\n",
        "- output neurons\n",
        "- learning rate\n",
        "- number of epochs"
      ],
      "metadata": {
        "id": "7sayhIGoM-DI"
      }
    },
    {
      "cell_type": "code",
      "source": [
        "# Network parameters\n",
        "inputSize = 2     # Number of input neurons (x1, x2)\n",
        "hiddenSize = 2    # Number of hidden neurons\n",
        "outputSize = 1    # Number of output neurons\n",
        "lr = 0.1          # Learning rate\n",
        "epochs = 180000   # Number of training epochs"
      ],
      "metadata": {
        "id": "kxEmkrm8M8x1"
      },
      "execution_count": 3,
      "outputs": []
    },
    {
      "cell_type": "code",
      "source": [
        "# Initialize weights and biases randomly within the range [-1, 1]\n",
        "w1 = np.random.rand(hiddenSize, inputSize) * 2 - 1  # Weights from input to hidden layer\n",
        "b1 = np.random.rand(hiddenSize, 1) * 2 - 1         # Bias for hidden layer\n",
        "w2 = np.random.rand(outputSize, hiddenSize) * 2 - 1  # Weights from hidden to output layer\n",
        "b2 = np.random.rand(outputSize, 1) * 2 - 1         # Bias for output layer"
      ],
      "metadata": {
        "id": "7tK47149NEbd"
      },
      "execution_count": 4,
      "outputs": []
    },
    {
      "cell_type": "markdown",
      "source": [
        "Training the Neural Network\n",
        "The neural network works in 5 stages:\n",
        "\n",
        "Forward pass\n",
        "\n",
        "The input X is multiplied by the weights w1 and passed through the first layer, followed by the application of the sigmoid or ReLU activation function. This gives the output for the hidden layer.\n",
        "The output of the hidden layer is then passed through the second set of weights w2 to compute the final output. Again, a sigmoid activation function is used to generate the final output a2.\n",
        "Error calculation\n",
        "\n",
        "The error is computed as the difference between the expected output (d) and the actual output (a2).\n",
        "Backward pass\n",
        "\n",
        "Output Layer: The derivative of the sigmoid activation function is applied to the error, producing the gradient for the output layer (da2). This is used to calculate how much the weights in the output layer need to be adjusted.\n",
        "Hidden Layer: The error is then propagated backward to the hidden layer. The gradient at the hidden layer (da1) is computed by taking the dot product of the transpose of the weights (w2.T) and the gradient from the output layer. The derivative of the activation function (sigmoid or ReLU) is used to adjust this error.\n",
        "Weights and bias updates\n",
        "\n",
        "After computing the gradients (dz1, dz2), the weights (w1, w2) and biases (b1, b2) are updated using the learning rate (lr) and the gradients. The updates are done to minimize the error and improve the model’s predictions.\n",
        "Training:\n",
        "\n",
        "This entire process is repeated over many iterations (epochs). During each epoch, the model adjusts its weights and biases to reduce the error. Over time, the network learns to approximate the XOR function. Forward Pass:"
      ],
      "metadata": {
        "id": "pwJP9D9tNG2e"
      }
    },
    {
      "cell_type": "code",
      "source": [
        "# Training the network using backpropagation\n",
        "error_list = []\n",
        "for epoch in range(epochs):\n",
        "    # Forward pass\n",
        "    z1 = np.dot(w1, X) + b1  # Weighted sum for hidden layer\n",
        "    a1 = 1 / (1 + np.exp(-z1))  # Sigmoid activation for hidden layer\n",
        "\n",
        "    z2 = np.dot(w2, a1) + b2  # Weighted sum for output layer\n",
        "    a2 = 1 / (1 + np.exp(-z2))  # Sigmoid activation for output layer\n",
        "\n",
        "    # Error calculation and backpropagation\n",
        "    error = d - a2  # Difference between expected and actual output\n",
        "    da2 = error * (a2 * (1 - a2))  # Derivative for output layer\n",
        "    dz2 = da2  # Gradient for output layer\n",
        "\n",
        "    # Propagate error to hidden layer\n",
        "    da1 = np.dot(w2.T, dz2)  # Gradient for hidden layer\n",
        "    dz1 = da1 * (a1 * (1 - a1))  # Derivative for hidden layer\n",
        "\n",
        "    # Update weights and biases\n",
        "    w2 += lr * np.dot(dz2, a1.T)  # Update weights from hidden to output layer\n",
        "    b2 += lr * np.sum(dz2, axis=1, keepdims=True)  # Update bias for output layer\n",
        "\n",
        "    w1 += lr * np.dot(dz1, X.T)  # Update weights from input to hidden layer\n",
        "    b1 += lr * np.sum(dz1, axis=1, keepdims=True)  # Update bias for hidden layer\n",
        "    if (epoch+1)%10000 == 0:\n",
        "        print(\"Epoch: %d, Average error: %0.05f\"%(epoch, np.average(abs(error))))\n",
        "        error_list.append(np.average(abs(error)))"
      ],
      "metadata": {
        "colab": {
          "base_uri": "https://localhost:8080/"
        },
        "id": "woZrmAFWNFyd",
        "outputId": "a04236d9-07ad-4e04-add4-b03ba8b7b6b3"
      },
      "execution_count": 5,
      "outputs": [
        {
          "output_type": "stream",
          "name": "stdout",
          "text": [
            "Epoch: 9999, Average error: 0.05502\n",
            "Epoch: 19999, Average error: 0.03104\n",
            "Epoch: 29999, Average error: 0.02366\n",
            "Epoch: 39999, Average error: 0.01978\n",
            "Epoch: 49999, Average error: 0.01732\n",
            "Epoch: 59999, Average error: 0.01557\n",
            "Epoch: 69999, Average error: 0.01426\n",
            "Epoch: 79999, Average error: 0.01323\n",
            "Epoch: 89999, Average error: 0.01238\n",
            "Epoch: 99999, Average error: 0.01168\n",
            "Epoch: 109999, Average error: 0.01109\n",
            "Epoch: 119999, Average error: 0.01057\n",
            "Epoch: 129999, Average error: 0.01012\n",
            "Epoch: 139999, Average error: 0.00972\n",
            "Epoch: 149999, Average error: 0.00937\n",
            "Epoch: 159999, Average error: 0.00905\n",
            "Epoch: 169999, Average error: 0.00876\n",
            "Epoch: 179999, Average error: 0.00850\n"
          ]
        }
      ]
    },
    {
      "cell_type": "code",
      "source": [
        "# Testing the trained network\n",
        "z1 = np.dot(w1, X) + b1  # Weighted sum for hidden layer\n",
        "a1 = 1 / (1 + np.exp(-z1))  # Sigmoid activation for hidden layer\n",
        "\n",
        "z2 = np.dot(w2, a1) + b2  # Weighted sum for output layer\n",
        "a2 = 1 / (1 + np.exp(-z2))  # Sigmoid activation for output layer\n",
        "\n",
        "# Print results\n",
        "print('Final output after training:', a2)\n",
        "print('Ground truth', d)\n",
        "print('Error after training:', error)\n",
        "print('Average error: %0.05f'%np.average(abs(error)))"
      ],
      "metadata": {
        "colab": {
          "base_uri": "https://localhost:8080/"
        },
        "id": "kaH1r8MfNMaN",
        "outputId": "7b0e88e5-d503-42d1-bad6-6706b46eac9c"
      },
      "execution_count": 6,
      "outputs": [
        {
          "output_type": "stream",
          "name": "stdout",
          "text": [
            "Final output after training: [[0.0095138  0.9919077  0.99190731 0.00828333]]\n",
            "Ground truth [0 1 1 0]\n",
            "Error after training: [[-0.00951382  0.00809233  0.00809272 -0.00828336]]\n",
            "Average error: 0.00850\n"
          ]
        }
      ]
    },
    {
      "cell_type": "code",
      "source": [
        "# Plot error\n",
        "plt.plot(error_list)\n",
        "plt.title('Error')\n",
        "plt.xlabel('Epochs')\n",
        "plt.ylabel('Error')\n",
        "plt.show()"
      ],
      "metadata": {
        "colab": {
          "base_uri": "https://localhost:8080/",
          "height": 472
        },
        "id": "awZRVLbKNQSd",
        "outputId": "08202f7c-1c75-4381-d7c8-6d6cb692befe"
      },
      "execution_count": 7,
      "outputs": [
        {
          "output_type": "display_data",
          "data": {
            "text/plain": [
              "<Figure size 640x480 with 1 Axes>"
            ],
            "image/png": "[encoded data removed]"
          },
          "metadata": {}
        }
      ]
    },
    {
      "cell_type": "code",
      "source": [
        "X = np.array([[0, 0], [0, 1], [1, 0], [1, 1]]).T  # 2x4 matrix, each column is a training example\n",
        "d = np.array([0, 0, 0, 1])  # Expected output for AND\n",
        "\n",
        "# Training the network using backpropagation\n",
        "error_list = []\n",
        "for epoch in range(epochs):\n",
        "    # Forward pass\n",
        "    z1 = np.dot(w1, X) + b1  # Weighted sum for hidden layer\n",
        "    a1 = 1 / (1 + np.exp(-z1))  # Sigmoid activation for hidden layer\n",
        "\n",
        "    z2 = np.dot(w2, a1) + b2  # Weighted sum for output layer\n",
        "    a2 = 1 / (1 + np.exp(-z2))  # Sigmoid activation for output layer\n",
        "\n",
        "    # Error calculation and backpropagation\n",
        "    error = d - a2  # Difference between expected and actual output\n",
        "    da2 = error * (a2 * (1 - a2))  # Derivative for output layer\n",
        "    dz2 = da2  # Gradient for output layer\n",
        "\n",
        "    # Propagate error to hidden layer\n",
        "    da1 = np.dot(w2.T, dz2)  # Gradient for hidden layer\n",
        "    dz1 = da1 * (a1 * (1 - a1))  # Derivative for hidden layer\n",
        "\n",
        "    # Update weights and biases\n",
        "    w2 += lr * np.dot(dz2, a1.T)  # Update weights from hidden to output layer\n",
        "    b2 += lr * np.sum(dz2, axis=1, keepdims=True)  # Update bias for output layer\n",
        "\n",
        "    w1 += lr * np.dot(dz1, X.T)  # Update weights from input to hidden layer\n",
        "    b1 += lr * np.sum(dz1, axis=1, keepdims=True)  # Update bias for hidden layer\n",
        "    if (epoch+1)%10000 == 0:\n",
        "        print(\"Epoch: %d, Average error: %0.05f\"%(epoch, np.average(abs(error))))\n",
        "        error_list.append(np.average(abs(error)))\n",
        "\n",
        "\n",
        "# Testing the trained network\n",
        "z1 = np.dot(w1, X) + b1  # Weighted sum for hidden layer\n",
        "a1 = 1 / (1 + np.exp(-z1))  # Sigmoid activation for hidden layer\n",
        "\n",
        "z2 = np.dot(w2, a1) + b2  # Weighted sum for output layer\n",
        "a2 = 1 / (1 + np.exp(-z2))  # Sigmoid activation for output layer\n",
        "\n",
        "# Print results\n",
        "print('\\nFinal output after training:', a2)\n",
        "print('Ground truth', d)\n",
        "print('Error after training:', error)\n",
        "print('Average error: %0.05f'%np.average(abs(error)))\n",
        "\n",
        "# Plot error\n",
        "plt.plot(error_list)\n",
        "plt.title('Error')\n",
        "plt.xlabel('Epochs')\n",
        "plt.ylabel('Error')\n",
        "plt.show()"
      ],
      "metadata": {
        "colab": {
          "base_uri": "https://localhost:8080/",
          "height": 896
        },
        "id": "ZE9rr_arNR00",
        "outputId": "5bed9898-adbc-4fc8-d5b8-ac0114ce894e"
      },
      "execution_count": 8,
      "outputs": [
        {
          "output_type": "stream",
          "name": "stdout",
          "text": [
            "Epoch: 9999, Average error: 0.25342\n",
            "Epoch: 19999, Average error: 0.25473\n",
            "Epoch: 29999, Average error: 0.01927\n",
            "Epoch: 39999, Average error: 0.01270\n",
            "Epoch: 49999, Average error: 0.01019\n",
            "Epoch: 59999, Average error: 0.00876\n",
            "Epoch: 69999, Average error: 0.00781\n",
            "Epoch: 79999, Average error: 0.00712\n",
            "Epoch: 89999, Average error: 0.00659\n",
            "Epoch: 99999, Average error: 0.00616\n",
            "Epoch: 109999, Average error: 0.00581\n",
            "Epoch: 119999, Average error: 0.00552\n",
            "Epoch: 129999, Average error: 0.00526\n",
            "Epoch: 139999, Average error: 0.00504\n",
            "Epoch: 149999, Average error: 0.00485\n",
            "Epoch: 159999, Average error: 0.00467\n",
            "Epoch: 169999, Average error: 0.00452\n",
            "Epoch: 179999, Average error: 0.00438\n",
            "\n",
            "Final output after training: [[0.00795678 0.00170394 0.00170389 0.99385618]]\n",
            "Ground truth [0 0 0 1]\n",
            "Error after training: [[-0.0079568  -0.00170394 -0.00170389  0.00614384]]\n",
            "Average error: 0.00438\n"
          ]
        },
        {
          "output_type": "display_data",
          "data": {
            "text/plain": [
              "<Figure size 640x480 with 1 Axes>"
            ],
            "image/png": "[encoded data removed]"
          },
          "metadata": {}
        }
      ]
    },
    {
      "cell_type": "code",
      "source": [
        "lr = 0.01         # Learning rate\n",
        "epochs = 1000000   # Number of training epochs\n",
        "\n",
        "\n",
        "# Defining inputs and expected output (XOR truth table)\n",
        "X = np.array([[0, 0], [0, 1], [1, 0], [1, 1]]).T  # 2x4 matrix, each column is a training example\n",
        "d = np.array([0, 1, 1, 0])  # Expected output for XOR\n",
        "\n",
        "\n",
        "# Training the network using backpropagation\n",
        "error_list = []\n",
        "for epoch in range(epochs):\n",
        "    # Forward pass\n",
        "    z1 = np.dot(w1, X) + b1  # Weighted sum for hidden layer\n",
        "    a1 = 1 / (1 + np.exp(-z1))  # Sigmoid activation for hidden layer\n",
        "\n",
        "    z2 = np.dot(w2, a1) + b2  # Weighted sum for output layer\n",
        "    a2 = 1 / (1 + np.exp(-z2))  # Sigmoid activation for output layer\n",
        "\n",
        "    # Error calculation and backpropagation\n",
        "    error = d - a2  # Difference between expected and actual output\n",
        "    da2 = error * (a2 * (1 - a2))  # Derivative for output layer\n",
        "    dz2 = da2  # Gradient for output layer\n",
        "\n",
        "    # Propagate error to hidden layer\n",
        "    da1 = np.dot(w2.T, dz2)  # Gradient for hidden layer\n",
        "    dz1 = da1 * (a1 * (1 - a1))  # Derivative for hidden layer\n",
        "\n",
        "    # Update weights and biases\n",
        "    w2 += lr * np.dot(dz2, a1.T)  # Update weights from hidden to output layer\n",
        "    b2 += lr * np.sum(dz2, axis=1, keepdims=True)  # Update bias for output layer\n",
        "\n",
        "    w1 += lr * np.dot(dz1, X.T)  # Update weights from input to hidden layer\n",
        "    b1 += lr * np.sum(dz1, axis=1, keepdims=True)  # Update bias for hidden layer\n",
        "    if (epoch+1)%10000 == 0:\n",
        "        print(\"Epoch: %d, Average error: %0.05f\"%(epoch, np.average(abs(error))))\n",
        "        error_list.append(np.average(abs(error)))\n",
        "\n",
        "\n",
        "# Testing the trained network\n",
        "z1 = np.dot(w1, X) + b1  # Weighted sum for hidden layer\n",
        "a1 = 1 / (1 + np.exp(-z1))  # Sigmoid activation for hidden layer\n",
        "\n",
        "z2 = np.dot(w2, a1) + b2  # Weighted sum for output layer\n",
        "a2 = 1 / (1 + np.exp(-z2))  # Sigmoid activation for output layer\n",
        "\n",
        "# Print results\n",
        "print('\\nFinal output after training:', a2)\n",
        "print('Ground truth', d)\n",
        "print('Error after training:', error)\n",
        "print('Average error: %0.05f'%np.average(abs(error)))\n",
        "\n",
        "\n",
        "# Plot error\n",
        "plt.plot(error_list)\n",
        "plt.title('Error')\n",
        "plt.xlabel('Epochs')\n",
        "plt.ylabel('Error')\n",
        "plt.show()"
      ],
      "metadata": {
        "colab": {
          "base_uri": "https://localhost:8080/",
          "height": 1000
        },
        "id": "K5E6IKnuNU38",
        "outputId": "800eebee-d8d4-4479-8976-21f6bf424695"
      },
      "execution_count": 9,
      "outputs": [
        {
          "output_type": "stream",
          "name": "stdout",
          "text": [
            "Epoch: 9999, Average error: 0.26420\n",
            "Epoch: 19999, Average error: 0.26627\n",
            "Epoch: 29999, Average error: 0.10979\n",
            "Epoch: 39999, Average error: 0.03072\n",
            "Epoch: 49999, Average error: 0.02342\n",
            "Epoch: 59999, Average error: 0.02023\n",
            "Epoch: 69999, Average error: 0.01835\n",
            "Epoch: 79999, Average error: 0.01707\n",
            "Epoch: 89999, Average error: 0.01612\n",
            "Epoch: 99999, Average error: 0.01539\n",
            "Epoch: 109999, Average error: 0.01479\n",
            "Epoch: 119999, Average error: 0.01429\n",
            "Epoch: 129999, Average error: 0.01387\n",
            "Epoch: 139999, Average error: 0.01350\n",
            "Epoch: 149999, Average error: 0.01318\n",
            "Epoch: 159999, Average error: 0.01289\n",
            "Epoch: 169999, Average error: 0.01262\n",
            "Epoch: 179999, Average error: 0.01238\n",
            "Epoch: 189999, Average error: 0.01216\n",
            "Epoch: 199999, Average error: 0.01196\n",
            "Epoch: 209999, Average error: 0.01177\n",
            "Epoch: 219999, Average error: 0.01160\n",
            "Epoch: 229999, Average error: 0.01143\n",
            "Epoch: 239999, Average error: 0.01128\n",
            "Epoch: 249999, Average error: 0.01113\n",
            "Epoch: 259999, Average error: 0.01099\n",
            "Epoch: 269999, Average error: 0.01086\n",
            "Epoch: 279999, Average error: 0.01073\n",
            "Epoch: 289999, Average error: 0.01061\n",
            "Epoch: 299999, Average error: 0.01050\n",
            "Epoch: 309999, Average error: 0.01038\n",
            "Epoch: 319999, Average error: 0.01028\n",
            "Epoch: 329999, Average error: 0.01018\n",
            "Epoch: 339999, Average error: 0.01008\n",
            "Epoch: 349999, Average error: 0.00998\n",
            "Epoch: 359999, Average error: 0.00989\n",
            "Epoch: 369999, Average error: 0.00980\n",
            "Epoch: 379999, Average error: 0.00972\n",
            "Epoch: 389999, Average error: 0.00963\n",
            "Epoch: 399999, Average error: 0.00955\n",
            "Epoch: 409999, Average error: 0.00947\n",
            "Epoch: 419999, Average error: 0.00940\n",
            "Epoch: 429999, Average error: 0.00932\n",
            "Epoch: 439999, Average error: 0.00925\n",
            "Epoch: 449999, Average error: 0.00918\n",
            "Epoch: 459999, Average error: 0.00911\n",
            "Epoch: 469999, Average error: 0.00905\n",
            "Epoch: 479999, Average error: 0.00898\n",
            "Epoch: 489999, Average error: 0.00892\n",
            "Epoch: 499999, Average error: 0.00886\n",
            "Epoch: 509999, Average error: 0.00880\n",
            "Epoch: 519999, Average error: 0.00874\n",
            "Epoch: 529999, Average error: 0.00868\n",
            "Epoch: 539999, Average error: 0.00862\n",
            "Epoch: 549999, Average error: 0.00857\n",
            "Epoch: 559999, Average error: 0.00852\n",
            "Epoch: 569999, Average error: 0.00846\n",
            "Epoch: 579999, Average error: 0.00841\n",
            "Epoch: 589999, Average error: 0.00836\n",
            "Epoch: 599999, Average error: 0.00831\n",
            "Epoch: 609999, Average error: 0.00826\n",
            "Epoch: 619999, Average error: 0.00822\n",
            "Epoch: 629999, Average error: 0.00817\n",
            "Epoch: 639999, Average error: 0.00812\n",
            "Epoch: 649999, Average error: 0.00808\n",
            "Epoch: 659999, Average error: 0.00804\n",
            "Epoch: 669999, Average error: 0.00799\n",
            "Epoch: 679999, Average error: 0.00795\n",
            "Epoch: 689999, Average error: 0.00791\n",
            "Epoch: 699999, Average error: 0.00787\n",
            "Epoch: 709999, Average error: 0.00783\n",
            "Epoch: 719999, Average error: 0.00779\n",
            "Epoch: 729999, Average error: 0.00775\n",
            "Epoch: 739999, Average error: 0.00771\n",
            "Epoch: 749999, Average error: 0.00767\n",
            "Epoch: 759999, Average error: 0.00764\n",
            "Epoch: 769999, Average error: 0.00760\n",
            "Epoch: 779999, Average error: 0.00757\n",
            "Epoch: 789999, Average error: 0.00753\n",
            "Epoch: 799999, Average error: 0.00750\n",
            "Epoch: 809999, Average error: 0.00746\n",
            "Epoch: 819999, Average error: 0.00743\n",
            "Epoch: 829999, Average error: 0.00740\n",
            "Epoch: 839999, Average error: 0.00736\n",
            "Epoch: 849999, Average error: 0.00733\n",
            "Epoch: 859999, Average error: 0.00730\n",
            "Epoch: 869999, Average error: 0.00727\n",
            "Epoch: 879999, Average error: 0.00724\n",
            "Epoch: 889999, Average error: 0.00721\n",
            "Epoch: 899999, Average error: 0.00718\n",
            "Epoch: 909999, Average error: 0.00715\n",
            "Epoch: 919999, Average error: 0.00712\n",
            "Epoch: 929999, Average error: 0.00709\n",
            "Epoch: 939999, Average error: 0.00706\n",
            "Epoch: 949999, Average error: 0.00704\n",
            "Epoch: 959999, Average error: 0.00701\n",
            "Epoch: 969999, Average error: 0.00698\n",
            "Epoch: 979999, Average error: 0.00696\n",
            "Epoch: 989999, Average error: 0.00693\n",
            "Epoch: 999999, Average error: 0.00690\n",
            "\n",
            "Final output after training: [[0.00207589 0.99223233 0.99223229 0.01000663]]\n",
            "Ground truth [0 1 1 0]\n",
            "Error after training: [[-0.00207589  0.00776767  0.00776771 -0.01000664]]\n",
            "Average error: 0.00690\n"
          ]
        },
        {
          "output_type": "display_data",
          "data": {
            "text/plain": [
              "<Figure size 640x480 with 1 Axes>"
            ],
            "image/png": "[encoded data removed]"
          },
          "metadata": {}
        }
      ]
    },
    {
      "cell_type": "code",
      "source": [],
      "metadata": {
        "id": "o5lvyAhmNYRM"
      },
      "execution_count": null,
      "outputs": []
    }
  ]
}
